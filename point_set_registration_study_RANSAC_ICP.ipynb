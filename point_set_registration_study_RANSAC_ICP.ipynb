{
 "cells": [
  {
   "cell_type": "code",
   "execution_count": 5,
   "metadata": {},
   "outputs": [],
   "source": [
    "import numpy as np\n",
    "import matplotlib.pyplot as plt\n",
    "import pandas as pd\n",
    "from scipy.spatial.distance import cdist\n",
    "from sklearn.neighbors import NearestNeighbors\n",
    "import numpy as np\n",
    "import matplotlib.pyplot as plt"
   ]
  },
  {
   "cell_type": "code",
   "execution_count": 6,
   "metadata": {},
   "outputs": [],
   "source": [
    "def generate_dataset(X,Y,\n",
    "        x0,y0,R,\n",
    "        error=0.3,drop_rate=0.1\n",
    "        ):\n",
    "    df=pd.DataFrame({'x':X,'y':Y})\n",
    "    df_in_circle=df[(df['x']-x0)**2+(df['y']-y0)**2<R**2]\n",
    "    df_in_circle.loc[:, 'x'] += np.random.uniform(-error, error, len(df_in_circle))\n",
    "    df_in_circle.loc[:, 'y'] += np.random.uniform(-error, error, len(df_in_circle))\n",
    "    df_in_circle=df_in_circle.sample(frac=1-drop_rate)\n",
    "    return df_in_circle\n",
    "\n",
    "def transform_dataset(x0,y0,theta,df_in_circle):\n",
    "    # 平移df_in_circle到原点\n",
    "    df_in_circle.loc[:, 'x'] -= x0\n",
    "    df_in_circle.loc[:, 'y'] -= y0\n",
    "    # 绕圆心旋转df_in_circle中的点theta角\n",
    "    x_new=df_in_circle['x']*np.cos(theta)-df_in_circle['y']*np.sin(theta)\n",
    "    y_new=df_in_circle['x']*np.sin(theta)+df_in_circle['y']*np.cos(theta)\n",
    "    df_in_circle['x']=x_new\n",
    "    df_in_circle['y']=y_new\n",
    "    return df_in_circle\n"
   ]
  },
  {
   "cell_type": "code",
   "execution_count": 7,
   "metadata": {},
   "outputs": [],
   "source": [
    "filename='axicon_pattern_crossflower.csv'\n",
    "df = pd.read_csv(filename)\n",
    "X=df['x']\n",
    "Y=df['y']\n",
    "\n",
    "x0,y0=np.random.uniform(-20,20,2)\n",
    "measure_diameter=17\n",
    "theta=np.random.uniform(0,2*np.pi)\n",
    "theta=0\n",
    "\n",
    "df_in_circle=generate_dataset(X,Y,x0,y0,measure_diameter/2,error=0.1)\n",
    "df_in_circle=transform_dataset(x0,y0,theta,df_in_circle)\n",
    "df_in_circle.to_csv('axicon_pattern_crossflower_measure.csv',index=False)\n",
    "\n",
    "data_measured=df_in_circle.values\n",
    "data_original=df.values"
   ]
  },
  {
   "cell_type": "code",
   "execution_count": 8,
   "metadata": {},
   "outputs": [
    {
     "name": "stdout",
     "output_type": "stream",
     "text": [
      "初始变换矩阵: None\n",
      "内点数量: None\n"
     ]
    }
   ],
   "source": [
    "import numpy as np\n",
    "from scipy.spatial.distance import cdist\n",
    "\n",
    "def estimate_affine_matrix(source, target):\n",
    "    \"\"\"使用最小二乘法估计仿射变换矩阵\"\"\"\n",
    "    A = np.zeros((2 * len(source), 6))\n",
    "    b = np.zeros((2 * len(source)))\n",
    "    for i in range(len(source)):\n",
    "        A[2 * i] = [source[i][0], source[i][1], 1, 0, 0, 0]\n",
    "        A[2 * i + 1] = [0, 0, 0, source[i][0], source[i][1], 1]\n",
    "        b[2 * i] = target[i][0]\n",
    "        b[2 * i + 1] = target[i][1]\n",
    "    x = np.linalg.lstsq(A, b, rcond=None)[0]\n",
    "    return x.reshape(2, 3)\n",
    "\n",
    "def apply_transform(points, transform):\n",
    "    \"\"\"应用仿射变换到点集\"\"\"\n",
    "    return np.dot(np.hstack((points, np.ones((points.shape[0], 1)))), transform.T)[:,:2]\n",
    "\n",
    "def random_partition(n, n_data):\n",
    "    \"\"\"随机选择 n 个数据点用于模型估计\"\"\"\n",
    "    all_idxs = np.arange(n_data)\n",
    "    np.random.shuffle(all_idxs)\n",
    "    idxs1 = all_idxs[:n]\n",
    "    idxs2 = all_idxs[n:]\n",
    "    return idxs1, idxs2\n",
    "\n",
    "def ransac(data_original, data_measured, model, n, k, t, d):\n",
    "    best_fit = None\n",
    "    best_err = np.inf\n",
    "    best_inlier_idxs = None\n",
    "    \n",
    "    for _ in range(k):\n",
    "        # 随机选择 n 个点\n",
    "        maybe_idxs, _ = random_partition(n, len(data_measured))\n",
    "        maybe_inliers = data_measured[maybe_idxs]\n",
    "        test_idxs = [i for i in range(len(data_measured)) if i not in maybe_idxs]\n",
    "        test_points = data_measured[test_idxs]\n",
    "        \n",
    "        # 使用模型估计变换\n",
    "        maybe_model = model(maybe_inliers, data_original)\n",
    "        \n",
    "        # 应用变换到所有测量点\n",
    "        test_transformed = apply_transform(test_points, maybe_model)\n",
    "        \n",
    "        # 计算内点数\n",
    "        distances = cdist(test_transformed, data_original)\n",
    "        inliers = distances.min(axis=1) < t\n",
    "        \n",
    "        inlier_count = np.sum(inliers)\n",
    "        if inlier_count > d and inlier_count > best_inlier_idxs:\n",
    "            best_inlier_idxs = inlier_count\n",
    "            best_fit = maybe_model\n",
    "            best_err = distances.min(axis=1).mean()\n",
    "    \n",
    "    return best_fit, best_inlier_idxs\n",
    "\n",
    "# 使用示例\n",
    "ransac_model = lambda a, b: estimate_affine_matrix(a, b)\n",
    "# 确保 data_measured 和 data_original 是已经加载的 NumPy 数组\n",
    "init_transform, inliers = ransac(data_original, data_measured, ransac_model, 10, 1000, 1.0, 100)\n",
    "\n",
    "print(\"初始变换矩阵:\", init_transform)\n",
    "print(\"内点数量:\", inliers)\n"
   ]
  }
 ],
 "metadata": {
  "kernelspec": {
   "display_name": "cv",
   "language": "python",
   "name": "python3"
  },
  "language_info": {
   "codemirror_mode": {
    "name": "ipython",
    "version": 3
   },
   "file_extension": ".py",
   "mimetype": "text/x-python",
   "name": "python",
   "nbconvert_exporter": "python",
   "pygments_lexer": "ipython3",
   "version": "3.11.5"
  }
 },
 "nbformat": 4,
 "nbformat_minor": 2
}
