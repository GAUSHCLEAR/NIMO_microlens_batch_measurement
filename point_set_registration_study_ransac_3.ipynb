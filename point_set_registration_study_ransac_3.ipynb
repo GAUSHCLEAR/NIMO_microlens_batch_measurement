{
 "cells": [
  {
   "cell_type": "code",
   "execution_count": 7,
   "metadata": {},
   "outputs": [],
   "source": [
    "import numpy as np\n",
    "import matplotlib.pyplot as plt\n",
    "import pandas as pd\n",
    "from scipy.spatial.distance import cdist\n",
    "from sklearn.neighbors import NearestNeighbors\n",
    "import numpy as np\n",
    "import matplotlib.pyplot as plt"
   ]
  },
  {
   "cell_type": "code",
   "execution_count": 8,
   "metadata": {},
   "outputs": [],
   "source": [
    "def generate_dataset(X,Y,\n",
    "        x0,y0,R,\n",
    "        error=0.3,drop_rate=0.1\n",
    "        ):\n",
    "    df=pd.DataFrame({'x':X,'y':Y})\n",
    "    df_in_circle=df[(df['x']-x0)**2+(df['y']-y0)**2<R**2]\n",
    "    df_in_circle.loc[:, 'x'] += np.random.uniform(-error, error, len(df_in_circle))\n",
    "    df_in_circle.loc[:, 'y'] += np.random.uniform(-error, error, len(df_in_circle))\n",
    "    df_in_circle=df_in_circle.sample(frac=1-drop_rate)\n",
    "    return df_in_circle\n",
    "\n",
    "def transform_dataset(x0,y0,theta,df_in_circle):\n",
    "    # 平移df_in_circle到原点\n",
    "    df_in_circle.loc[:, 'x'] -= x0\n",
    "    df_in_circle.loc[:, 'y'] -= y0\n",
    "    # 绕圆心旋转df_in_circle中的点theta角\n",
    "    x_new=df_in_circle['x']*np.cos(theta)-df_in_circle['y']*np.sin(theta)\n",
    "    y_new=df_in_circle['x']*np.sin(theta)+df_in_circle['y']*np.cos(theta)\n",
    "    df_in_circle['x']=x_new\n",
    "    df_in_circle['y']=y_new\n",
    "    return df_in_circle\n"
   ]
  },
  {
   "cell_type": "code",
   "execution_count": 9,
   "metadata": {},
   "outputs": [],
   "source": [
    "filename='axicon_pattern_crossflower.csv'\n",
    "df = pd.read_csv(filename)\n",
    "X=df['x']\n",
    "Y=df['y']\n",
    "\n",
    "x0,y0=np.random.uniform(-20,20,2)\n",
    "measure_diameter=17\n",
    "theta=np.random.uniform(0,2*np.pi)\n",
    "theta=0\n",
    "\n",
    "df_in_circle=generate_dataset(X,Y,x0,y0,measure_diameter/2,error=0.1)\n",
    "df_in_circle=transform_dataset(x0,y0,theta,df_in_circle)\n",
    "df_in_circle.to_csv('axicon_pattern_crossflower_measure.csv',index=False)\n",
    "\n",
    "data_measured=df_in_circle\n",
    "data_original=df"
   ]
  },
  {
   "cell_type": "code",
   "execution_count": 10,
   "metadata": {},
   "outputs": [
    {
     "name": "stdout",
     "output_type": "stream",
     "text": [
      "118 118\n",
      "65 65\n",
      "63 63\n",
      "119 119\n",
      "109 109\n",
      "109 109\n",
      "81 81\n",
      "116 116\n",
      "109 109\n",
      "111 111\n",
      "Best Transformation (Rotation, Translation): None\n"
     ]
    }
   ],
   "source": [
    "import numpy as np\n",
    "from sklearn.neighbors import NearestNeighbors\n",
    "\n",
    "def estimate_rigid_transform(A, B):\n",
    "    \"\"\"\n",
    "    使用最小二乘法估计刚体变换，包括旋转和平移。\n",
    "    A 和 B 是对应点的集合，形状为 (n_points, 2)。\n",
    "    返回旋转矩阵 R 和平移向量 t。\n",
    "    \"\"\"\n",
    "    assert len(A) == len(B)\n",
    "\n",
    "    centroid_A = np.mean(A, axis=0)\n",
    "    centroid_B = np.mean(B, axis=0)\n",
    "    A_centered = A - centroid_A\n",
    "    B_centered = B - centroid_B\n",
    "\n",
    "    H = A_centered.T @ B_centered\n",
    "    U, _, Vt = np.linalg.svd(H)\n",
    "    R = Vt.T @ U.T\n",
    "\n",
    "    if np.linalg.det(R) < 0:\n",
    "        Vt[-1, :] *= -1\n",
    "        R = Vt.T @ U.T\n",
    "\n",
    "    t = centroid_B - R @ centroid_A\n",
    "\n",
    "    return R, t\n",
    "\n",
    "def ransac_translation_rotation_focused_sampling(data, model, n_iter, threshold, radius):\n",
    "    best_transform = None\n",
    "    max_inliers = 0\n",
    "\n",
    "    data_coords = data[['x', 'y']].values\n",
    "    model_coords = model[['x', 'y']].values\n",
    "\n",
    "    for _ in range(n_iter):\n",
    "        center_idx = np.random.choice(len(model_coords))\n",
    "        center_point = model_coords[center_idx]\n",
    "        distances = np.linalg.norm(model_coords - center_point, axis=1)\n",
    "        close_points_idx = np.where(distances < radius)[0]\n",
    "        selected_model_points = model_coords[close_points_idx]\n",
    "\n",
    "        nbrs = NearestNeighbors(n_neighbors=1, algorithm='auto').fit(data_coords)\n",
    "        distances, indices = nbrs.kneighbors(selected_model_points)\n",
    "\n",
    "        model_matched = selected_model_points\n",
    "        data_matched = data_coords[indices.flatten()]\n",
    "\n",
    "        # Estimate both rotation and translation\n",
    "        R, t = estimate_rigid_transform(model_matched, data_matched)\n",
    "        transformed_model = (model_coords @ R.T) + t\n",
    "\n",
    "        # Count inliers\n",
    "        nbrs.fit(transformed_model)\n",
    "        distances, _ = nbrs.kneighbors(data_coords)\n",
    "        inliers = np.sum(distances < threshold)\n",
    "\n",
    "        # Update the best transformation\n",
    "        if inliers > max_inliers:\n",
    "            max_inliers = inliers\n",
    "            best_transform = (R, t)\n",
    "\n",
    "    return best_transform\n",
    "\n",
    "# Updated RANSAC parameters for focused sampling with rotation\n",
    "radius_sampling = 10  # Define an appropriate radius based on the dataset characteristics\n",
    "n_iter_translation_rotation = 10\n",
    "threshold_translation_rotation = 0.01\n",
    "\n",
    "# Run RANSAC with focused sampling including rotation\n",
    "best_transform_focused = ransac_translation_rotation_focused_sampling(\n",
    "    data_measured, data_original, n_iter_translation_rotation, threshold_translation_rotation, radius_sampling)\n",
    "\n",
    "print(\"Best Transformation (Rotation, Translation):\", best_transform_focused)\n"
   ]
  },
  {
   "cell_type": "code",
   "execution_count": 11,
   "metadata": {},
   "outputs": [
    {
     "name": "stdout",
     "output_type": "stream",
     "text": [
      "-4.908890950617067 19.58215059163144\n"
     ]
    },
    {
     "ename": "TypeError",
     "evalue": "'NoneType' object is not subscriptable",
     "output_type": "error",
     "traceback": [
      "\u001b[1;31m---------------------------------------------------------------------------\u001b[0m",
      "\u001b[1;31mTypeError\u001b[0m                                 Traceback (most recent call last)",
      "Cell \u001b[1;32mIn[11], line 2\u001b[0m\n\u001b[0;32m      1\u001b[0m \u001b[38;5;28mprint\u001b[39m(x0,y0)\n\u001b[1;32m----> 2\u001b[0m \u001b[38;5;28mprint\u001b[39m(best_transform_focused[\u001b[38;5;241m1\u001b[39m])\n",
      "\u001b[1;31mTypeError\u001b[0m: 'NoneType' object is not subscriptable"
     ]
    }
   ],
   "source": [
    "print(x0,y0)\n",
    "print(best_transform_focused[1])\n"
   ]
  },
  {
   "cell_type": "code",
   "execution_count": null,
   "metadata": {},
   "outputs": [
    {
     "data": {
      "image/png": "[encoded data removed]",
      "text/plain": [
       "<Figure size 640x480 with 1 Axes>"
      ]
     },
     "metadata": {},
     "output_type": "display_data"
    }
   ],
   "source": [
    "\n",
    "\n",
    "# 假设 best_transform_focused 是形如 (R, t) 的元组\n",
    "R, t = best_transform_focused\n",
    "\n",
    "# 应用旋转和平移\n",
    "data_measured_coords = data_measured[['x', 'y']].values\n",
    "transformed_data_measured = (data_measured_coords @ R.T) + t\n",
    "\n",
    "# 绘制图形\n",
    "fig, ax = plt.subplots()\n",
    "# 绘制原始数据点\n",
    "ax.scatter(data_original['x'], data_original['y'], s=1, label='Original Data')\n",
    "# 绘制圆形区域\n",
    "circle_ori = plt.Circle((x0, y0), measure_diameter/2, fill=False, color='blue', label='Original Circle')\n",
    "ax.add_artist(circle_ori)\n",
    "circle_test = plt.Circle((x0, y0), 5, fill=False, color='red', label='Test Circle')\n",
    "ax.add_artist(circle_test)\n",
    "\n",
    "# 绘制变换后的数据点\n",
    "ax.scatter(transformed_data_measured[:, 0], transformed_data_measured[:, 1], s=1, color='red', label='Transformed Data Measured')\n",
    "ax.set_aspect('equal')\n",
    "\n",
    "# 设置图例\n",
    "ax.legend()\n",
    "\n",
    "# 显示图形\n",
    "plt.show()\n"
   ]
  },
  {
   "cell_type": "code",
   "execution_count": null,
   "metadata": {},
   "outputs": [],
   "source": []
  }
 ],
 "metadata": {
  "kernelspec": {
   "display_name": "cv",
   "language": "python",
   "name": "python3"
  },
  "language_info": {
   "codemirror_mode": {
    "name": "ipython",
    "version": 3
   },
   "file_extension": ".py",
   "mimetype": "text/x-python",
   "name": "python",
   "nbconvert_exporter": "python",
   "pygments_lexer": "ipython3",
   "version": "3.11.5"
  }
 },
 "nbformat": 4,
 "nbformat_minor": 2
}
