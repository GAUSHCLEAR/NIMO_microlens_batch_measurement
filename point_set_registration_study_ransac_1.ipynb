{
 "cells": [
  {
   "cell_type": "code",
   "execution_count": 21,
   "metadata": {},
   "outputs": [],
   "source": [
    "import numpy as np\n",
    "import matplotlib.pyplot as plt\n",
    "import pandas as pd\n",
    "from scipy.spatial.distance import cdist\n",
    "from sklearn.neighbors import NearestNeighbors\n",
    "import numpy as np\n",
    "import matplotlib.pyplot as plt"
   ]
  },
  {
   "cell_type": "code",
   "execution_count": 22,
   "metadata": {},
   "outputs": [],
   "source": [
    "def generate_dataset(X,Y,\n",
    "        x0,y0,R,\n",
    "        error=0.3,drop_rate=0.1\n",
    "        ):\n",
    "    df=pd.DataFrame({'x':X,'y':Y})\n",
    "    df_in_circle=df[(df['x']-x0)**2+(df['y']-y0)**2<R**2]\n",
    "    df_in_circle.loc[:, 'x'] += np.random.uniform(-error, error, len(df_in_circle))\n",
    "    df_in_circle.loc[:, 'y'] += np.random.uniform(-error, error, len(df_in_circle))\n",
    "    df_in_circle=df_in_circle.sample(frac=1-drop_rate)\n",
    "    return df_in_circle\n",
    "\n",
    "def transform_dataset(x0,y0,theta,df_in_circle):\n",
    "    # 平移df_in_circle到原点\n",
    "    df_in_circle.loc[:, 'x'] -= x0\n",
    "    df_in_circle.loc[:, 'y'] -= y0\n",
    "    # 绕圆心旋转df_in_circle中的点theta角\n",
    "    x_new=df_in_circle['x']*np.cos(theta)-df_in_circle['y']*np.sin(theta)\n",
    "    y_new=df_in_circle['x']*np.sin(theta)+df_in_circle['y']*np.cos(theta)\n",
    "    df_in_circle['x']=x_new\n",
    "    df_in_circle['y']=y_new\n",
    "    return df_in_circle\n"
   ]
  },
  {
   "cell_type": "code",
   "execution_count": 23,
   "metadata": {},
   "outputs": [],
   "source": [
    "filename='axicon_pattern_crossflower.csv'\n",
    "df = pd.read_csv(filename)\n",
    "X=df['x']\n",
    "Y=df['y']\n",
    "\n",
    "x0,y0=np.random.uniform(-20,20,2)\n",
    "measure_diameter=17\n",
    "theta=np.random.uniform(0,2*np.pi)\n",
    "theta=0\n",
    "\n",
    "df_in_circle=generate_dataset(X,Y,x0,y0,measure_diameter/2,error=0.1)\n",
    "df_in_circle=transform_dataset(x0,y0,theta,df_in_circle)\n",
    "df_in_circle.to_csv('axicon_pattern_crossflower_measure.csv',index=False)\n",
    "\n",
    "data_measured=df_in_circle\n",
    "data_original=df"
   ]
  },
  {
   "cell_type": "code",
   "execution_count": 24,
   "metadata": {},
   "outputs": [],
   "source": [
    "def ransac_translation_focused_sampling(data, model, n_iter, threshold, radius):\n",
    "    best_translation = None\n",
    "    max_inliers = 0\n",
    "\n",
    "    # Coordinates\n",
    "    data_coords = data[['x', 'y']].values\n",
    "    model_coords = model[['x', 'y']].values\n",
    "\n",
    "    for _ in range(n_iter):\n",
    "        # Randomly select a central point from the model\n",
    "        center_idx = np.random.choice(len(model_coords))\n",
    "        center_point = model_coords[center_idx]\n",
    "\n",
    "        # Find points within a certain radius from the center point\n",
    "        distances = np.linalg.norm(model_coords - center_point, axis=1)\n",
    "        close_points_idx = np.where(distances < radius)[0]\n",
    "        \n",
    "        selected_model_points = model_coords[close_points_idx]\n",
    "\n",
    "        # Find nearest neighbors in the data for these model points\n",
    "        nbrs = NearestNeighbors(n_neighbors=1, algorithm='auto').fit(data_coords)\n",
    "        distances, indices = nbrs.kneighbors(selected_model_points)\n",
    "\n",
    "        # Calculate the translation using the mean of the selected points differences\n",
    "        model_matched = selected_model_points\n",
    "        data_matched = data_coords[indices.flatten()]\n",
    "        translation = np.mean(data_matched - model_matched, axis=0)\n",
    "\n",
    "        # Apply translation\n",
    "        translated_model = model_coords + translation\n",
    "\n",
    "        # Count inliers\n",
    "        nbrs.fit(translated_model)\n",
    "        distances, _ = nbrs.kneighbors(data_coords)\n",
    "        inliers = np.sum(distances < threshold)\n",
    "\n",
    "        # Update the best translation if the current one has more inliers\n",
    "        if inliers > max_inliers:\n",
    "            max_inliers = inliers\n",
    "            best_translation = translation\n",
    "\n",
    "    return best_translation\n",
    "\n",
    "# Updated RANSAC parameters for focused sampling\n",
    "radius_sampling = 10  # Define an appropriate radius based on the dataset characteristics\n",
    "n_iter_translation=10000\n",
    "threshold_translation=0.001\n",
    "# Run RANSAC with focused sampling\n",
    "best_translation_focused = ransac_translation_focused_sampling(\n",
    "    data_measured, data_original, n_iter_translation, threshold_translation, radius_sampling)\n",
    "best_translation_focused\n"
   ]
  },
  {
   "cell_type": "code",
   "execution_count": null,
   "metadata": {},
   "outputs": [],
   "source": [
    "def ransac_translation_focused_sampling(data, model, n_iter, threshold, radius):\n",
    "    best_translation = None\n",
    "    max_inliers = 0\n",
    "\n",
    "    # Coordinates\n",
    "    data_coords = data[['x', 'y']].values\n",
    "    model_coords = model[['x', 'y']].values\n",
    "\n",
    "    for _ in range(n_iter):\n",
    "        # Randomly select a central point from the model\n",
    "        center_idx = np.random.choice(len(model_coords))\n",
    "        center_point = model_coords[center_idx]\n",
    "\n",
    "        # Find points within a certain radius from the center point\n",
    "        distances = np.linalg.norm(model_coords - center_point, axis=1)\n",
    "        close_points_idx = np.where(distances < radius)[0]\n",
    "        \n",
    "        selected_model_points = model_coords[close_points_idx]\n",
    "\n",
    "        # Find nearest neighbors in the data for these model points\n",
    "        nbrs = NearestNeighbors(n_neighbors=1, algorithm='auto').fit(data_coords)\n",
    "        distances, indices = nbrs.kneighbors(selected_model_points)\n",
    "\n",
    "        # Calculate the translation using the mean of the selected points differences\n",
    "        model_matched = selected_model_points\n",
    "        data_matched = data_coords[indices.flatten()]\n",
    "        translation = np.mean(data_matched - model_matched, axis=0)\n",
    "\n",
    "        # Apply translation\n",
    "        translated_model = model_coords + translation\n",
    "\n",
    "        # Count inliers\n",
    "        nbrs.fit(translated_model)\n",
    "        distances, _ = nbrs.kneighbors(data_coords)\n",
    "        inliers = np.sum(distances < threshold)\n",
    "\n",
    "        # Update the best translation if the current one has more inliers\n",
    "        if inliers > max_inliers:\n",
    "            max_inliers = inliers\n",
    "            best_translation = translation\n",
    "\n",
    "    return best_translation\n",
    "\n",
    "# Updated RANSAC parameters for focused sampling\n",
    "radius_sampling = 10  # Define an appropriate radius based on the dataset characteristics\n",
    "n_iter_translation=10000\n",
    "threshold_translation=0.001\n",
    "# Run RANSAC with focused sampling\n",
    "best_translation_focused = ransac_translation_focused_sampling(\n",
    "    data_measured, data_original, n_iter_translation, threshold_translation, radius_sampling)\n",
    "best_translation_focused\n"
   ]
  },
  {
   "cell_type": "code",
   "execution_count": 25,
   "metadata": {},
   "outputs": [
    {
     "name": "stdout",
     "output_type": "stream",
     "text": [
      "6.978970159835601 11.807039054450446\n",
      "None\n"
     ]
    }
   ],
   "source": [
    "print(x0,y0)\n",
    "print(best_translation_focused)\n"
   ]
  },
  {
   "cell_type": "code",
   "execution_count": 26,
   "metadata": {},
   "outputs": [
    {
     "ename": "TypeError",
     "evalue": "unsupported operand type(s) for -: 'float' and 'NoneType'",
     "output_type": "error",
     "traceback": [
      "\u001b[1;31m---------------------------------------------------------------------------\u001b[0m",
      "\u001b[1;31mTypeError\u001b[0m                                 Traceback (most recent call last)",
      "Cell \u001b[1;32mIn[26], line 2\u001b[0m\n\u001b[0;32m      1\u001b[0m \u001b[38;5;66;03m# Apply the estimated transformation to the measured data\u001b[39;00m\n\u001b[1;32m----> 2\u001b[0m transformed_data_measured \u001b[38;5;241m=\u001b[39m data_measured[[\u001b[38;5;124m'\u001b[39m\u001b[38;5;124mx\u001b[39m\u001b[38;5;124m'\u001b[39m, \u001b[38;5;124m'\u001b[39m\u001b[38;5;124my\u001b[39m\u001b[38;5;124m'\u001b[39m]]\u001b[38;5;241m.\u001b[39mvalues \u001b[38;5;241m-\u001b[39m best_translation_focused\n",
      "\u001b[1;31mTypeError\u001b[0m: unsupported operand type(s) for -: 'float' and 'NoneType'"
     ]
    }
   ],
   "source": [
    "\n",
    "# Apply the estimated transformation to the measured data\n",
    "transformed_data_measured = data_measured[['x', 'y']].values - best_translation_focused"
   ]
  },
  {
   "cell_type": "code",
   "execution_count": null,
   "metadata": {},
   "outputs": [
    {
     "data": {
      "image/png": "[encoded data removed]",
      "text/plain": [
       "<Figure size 640x480 with 1 Axes>"
      ]
     },
     "metadata": {},
     "output_type": "display_data"
    }
   ],
   "source": [
    "# 画出df中的所有点\n",
    "# 画出圆\n",
    "# 画出圆内的点\n",
    "fig,ax=plt.subplots()\n",
    "ax.scatter(df['x'],df['y'],s=1)\n",
    "circle_ori=plt.Circle((x0,y0),measure_diameter/2,fill=False)\n",
    "ax.add_artist(circle_ori)\n",
    "circle_test=plt.Circle((x0,y0),5,fill=False)\n",
    "ax.add_artist(circle_test)\n",
    "\n",
    "ax.scatter(transformed_data_measured[:,0],transformed_data_measured[:,1],s=1)\n",
    "ax.set_aspect('equal')\n",
    "plt.show()"
   ]
  },
  {
   "cell_type": "code",
   "execution_count": null,
   "metadata": {},
   "outputs": [],
   "source": []
  }
 ],
 "metadata": {
  "kernelspec": {
   "display_name": "cv",
   "language": "python",
   "name": "python3"
  },
  "language_info": {
   "codemirror_mode": {
    "name": "ipython",
    "version": 3
   },
   "file_extension": ".py",
   "mimetype": "text/x-python",
   "name": "python",
   "nbconvert_exporter": "python",
   "pygments_lexer": "ipython3",
   "version": "3.11.5"
  }
 },
 "nbformat": 4,
 "nbformat_minor": 2
}
